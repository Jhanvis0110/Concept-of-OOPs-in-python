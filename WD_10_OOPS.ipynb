{
  "nbformat": 4,
  "nbformat_minor": 0,
  "metadata": {
    "colab": {
      "provenance": [],
      "include_colab_link": true
    },
    "kernelspec": {
      "name": "python3",
      "display_name": "Python 3"
    },
    "language_info": {
      "name": "python"
    }
  },
  "cells": [
    {
      "cell_type": "markdown",
      "metadata": {
        "id": "view-in-github",
        "colab_type": "text"
      },
      "source": [
        "<a href=\"https://colab.research.google.com/github/Jhanvis0110/Concept-of-OOPs-in-python/blob/main/WD_10_OOPS.ipynb\" target=\"_parent\"><img src=\"https://colab.research.google.com/assets/colab-badge.svg\" alt=\"Open In Colab\"/></a>"
      ]
    },
    {
      "cell_type": "code",
      "execution_count": null,
      "metadata": {
        "id": "mf7g6kazQvzO"
      },
      "outputs": [],
      "source": [
        "class Student:\n",
        "  def login(self):\n",
        "    print(\"Welcome to login section\")\n",
        "  \n",
        "  def signup(self):\n",
        "    print(\"Welcome to signup section\")\n",
        "\n",
        "  def certification(self):\n",
        "    print(\"Welcome to certification section\")"
      ]
    },
    {
      "cell_type": "code",
      "source": [
        "class Trainer:\n",
        "  def login(self):\n",
        "    print(\"Welcome to login section\")\n",
        "  \n",
        "  def signup(self):\n",
        "    print(\"Welcome to signup section\")\n",
        "\n",
        "  def revenue(self):\n",
        "    print(\"Welcome to revenue section\")"
      ],
      "metadata": {
        "id": "CSFFDZDiQ39H"
      },
      "execution_count": null,
      "outputs": []
    },
    {
      "cell_type": "code",
      "source": [
        "shiva=Student()"
      ],
      "metadata": {
        "id": "-TiV_drqQ4Mb"
      },
      "execution_count": null,
      "outputs": []
    },
    {
      "cell_type": "code",
      "source": [
        "shiva.login()"
      ],
      "metadata": {
        "colab": {
          "base_uri": "https://localhost:8080/"
        },
        "id": "gfzic7RqQ62D",
        "outputId": "303e6666-2e07-4b7e-df76-3737468ec56c"
      },
      "execution_count": null,
      "outputs": [
        {
          "output_type": "stream",
          "name": "stdout",
          "text": [
            "Welcome to login section\n"
          ]
        }
      ]
    },
    {
      "cell_type": "code",
      "source": [
        "krishna=Trainer()"
      ],
      "metadata": {
        "id": "8d63OaQvQ_9L"
      },
      "execution_count": null,
      "outputs": []
    },
    {
      "cell_type": "code",
      "source": [
        "krishna.login()"
      ],
      "metadata": {
        "colab": {
          "base_uri": "https://localhost:8080/"
        },
        "id": "KwMl2vM2RDWC",
        "outputId": "4df995fa-d463-4dbb-8680-e2b583512697"
      },
      "execution_count": null,
      "outputs": [
        {
          "output_type": "stream",
          "name": "stdout",
          "text": [
            "Welcome to login section\n"
          ]
        }
      ]
    },
    {
      "cell_type": "code",
      "source": [
        "class log_sign:\n",
        "  def login(self):\n",
        "    print(\"Welcome to login section\")\n",
        "  \n",
        "  def signup(self):\n",
        "    print(\"Welcome to signup section\")"
      ],
      "metadata": {
        "id": "c7xBdGjfRO2r"
      },
      "execution_count": null,
      "outputs": []
    },
    {
      "cell_type": "code",
      "source": [
        "class Student(log_sign):\n",
        "  def certification(self):\n",
        "    print(\"Welcome to certification section\")"
      ],
      "metadata": {
        "id": "Z9Tk64FiRf2S"
      },
      "execution_count": null,
      "outputs": []
    },
    {
      "cell_type": "code",
      "source": [
        "class Trainer(log_sign):\n",
        "  def revenue(self):\n",
        "    print(\"Welcome to revenue section\")"
      ],
      "metadata": {
        "id": "WdHVWEGYRj5C"
      },
      "execution_count": null,
      "outputs": []
    },
    {
      "cell_type": "code",
      "source": [
        "krishna=Trainer()"
      ],
      "metadata": {
        "id": "0iE1108BRnXj"
      },
      "execution_count": null,
      "outputs": []
    },
    {
      "cell_type": "code",
      "source": [
        "krishna.signup()"
      ],
      "metadata": {
        "colab": {
          "base_uri": "https://localhost:8080/"
        },
        "id": "rGzYW0ncRqlK",
        "outputId": "e278713c-9306-4b11-84a8-1c638645f5bd"
      },
      "execution_count": null,
      "outputs": [
        {
          "output_type": "stream",
          "name": "stdout",
          "text": [
            "Welcome to signup section\n"
          ]
        }
      ]
    },
    {
      "cell_type": "code",
      "source": [
        "shiva=Student()"
      ],
      "metadata": {
        "id": "wZu0NnKaR03y"
      },
      "execution_count": null,
      "outputs": []
    },
    {
      "cell_type": "code",
      "source": [
        "shiva.login()"
      ],
      "metadata": {
        "colab": {
          "base_uri": "https://localhost:8080/"
        },
        "id": "NJggjSIZShOR",
        "outputId": "c00be2fa-b797-4553-8984-fe1d72b85391"
      },
      "execution_count": null,
      "outputs": [
        {
          "output_type": "stream",
          "name": "stdout",
          "text": [
            "Welcome to login section\n"
          ]
        }
      ]
    },
    {
      "cell_type": "code",
      "source": [
        "krishna=Trainer()"
      ],
      "metadata": {
        "id": "iXYgYDWHS2ar"
      },
      "execution_count": null,
      "outputs": []
    },
    {
      "cell_type": "code",
      "source": [
        "Trainer(krishna)"
      ],
      "metadata": {
        "colab": {
          "base_uri": "https://localhost:8080/",
          "height": 171
        },
        "id": "qEqsXlhUUVWx",
        "outputId": "aa0f514d-a27e-4b88-cda6-dddadcbf6488"
      },
      "execution_count": null,
      "outputs": [
        {
          "output_type": "error",
          "ename": "TypeError",
          "evalue": "ignored",
          "traceback": [
            "\u001b[0;31m---------------------------------------------------------------------------\u001b[0m",
            "\u001b[0;31mTypeError\u001b[0m                                 Traceback (most recent call last)",
            "\u001b[0;32m<ipython-input-25-7a9053e6306b>\u001b[0m in \u001b[0;36m<module>\u001b[0;34m\u001b[0m\n\u001b[0;32m----> 1\u001b[0;31m \u001b[0mTrainer\u001b[0m\u001b[0;34m(\u001b[0m\u001b[0mkrishna\u001b[0m\u001b[0;34m)\u001b[0m\u001b[0;34m\u001b[0m\u001b[0;34m\u001b[0m\u001b[0m\n\u001b[0m",
            "\u001b[0;31mTypeError\u001b[0m: Trainer() takes no arguments"
          ]
        }
      ]
    },
    {
      "cell_type": "code",
      "source": [
        "class Dada:\n",
        "  def home(self):\n",
        "    print(\"Dada's home\")\n",
        "class Papa(Dada):\n",
        "  def laptop(self):\n",
        "    print(\"papa's laptop\")\n",
        "class Child(Papa):\n",
        "  def toy(self):\n",
        "    print(\"I have toy\")\n",
        "\n",
        "krishna=Child()"
      ],
      "metadata": {
        "id": "zG9LlejJUa9K"
      },
      "execution_count": null,
      "outputs": []
    },
    {
      "cell_type": "code",
      "source": [],
      "metadata": {
        "id": "PPZp1PIGY8Vr"
      },
      "execution_count": null,
      "outputs": []
    },
    {
      "cell_type": "code",
      "source": [
        "class Dada:\n",
        "  def home(self):\n",
        "    print(\"Dada's home\")\n",
        "class Papa(Dada):\n",
        "  def laptop(self):\n",
        "    print(\"papa's laptop\")\n",
        "class Child(Dada):\n",
        "  def toy(self):\n",
        "    print(\"I have toy\")\n",
        "\n",
        "krishna=Child()"
      ],
      "metadata": {
        "id": "-0A8r-lDY8lR"
      },
      "execution_count": null,
      "outputs": []
    },
    {
      "cell_type": "code",
      "source": [
        "krishna."
      ],
      "metadata": {
        "id": "luBlN-_RY-HH"
      },
      "execution_count": null,
      "outputs": []
    },
    {
      "cell_type": "code",
      "source": [
        "class Dada:\n",
        "  def home(self):\n",
        "    print(\"Dada's home\")\n",
        "class Papa():\n",
        "  def laptop(self):\n",
        "    print(\"papa's laptop\")\n",
        "class Mom():\n",
        "  def cooking(self):\n",
        "    print(\"mom's department\")\n",
        "class Child(Dada,Mom,Papa):\n",
        "  def toy(self):\n",
        "    print(\"I have toy\")\n",
        "\n",
        "krishna=Child()"
      ],
      "metadata": {
        "id": "GJb7M6pjZA2Q"
      },
      "execution_count": null,
      "outputs": []
    },
    {
      "cell_type": "code",
      "source": [
        "class Dada:\n",
        "  def home(self):\n",
        "    print(\"Dada's home\")\n",
        "class Papa():\n",
        "  def laptop(self):\n",
        "    print(\"papa's laptop\")\n",
        "class Mom():\n",
        "  def cooking(self):\n",
        "    print(\"mom's department\")\n",
        "class Child(Dada,Mom,Papa):\n",
        "  pass\n",
        "\n"
      ],
      "metadata": {
        "id": "tkIjLotDaGCQ"
      },
      "execution_count": null,
      "outputs": []
    },
    {
      "cell_type": "code",
      "source": [
        "krishna=Child()"
      ],
      "metadata": {
        "id": "20p_cB0AVgDY"
      },
      "execution_count": null,
      "outputs": []
    },
    {
      "cell_type": "code",
      "source": [
        "krishna.cooking()"
      ],
      "metadata": {
        "colab": {
          "base_uri": "https://localhost:8080/"
        },
        "id": "oRG9Gcm8V2_G",
        "outputId": "3ab6de47-9590-44c4-894a-82d7d62282f3"
      },
      "execution_count": null,
      "outputs": [
        {
          "output_type": "stream",
          "name": "stdout",
          "text": [
            "mom's department\n"
          ]
        }
      ]
    },
    {
      "cell_type": "code",
      "source": [
        "class Dada:\n",
        "  def home(self):\n",
        "    print(\"Dada's home\")\n",
        "class Papa():\n",
        "  def laptop(self):\n",
        "    print(\"papa's laptop\")\n",
        "class Mom():\n",
        "  # def __init__(self):\n",
        "  #   print(\"My son will become a cricketer\")\n",
        "\n",
        "  def cooking(self):\n",
        "    print(\"mom's department\")\n",
        "    \n",
        "class Child(Mom):\n",
        "  def __init__(self):\n",
        "    super().__init__()\n",
        "    print(\"I want to become AI\")\n",
        "\n"
      ],
      "metadata": {
        "id": "QDoGm0Y4V_sG"
      },
      "execution_count": null,
      "outputs": []
    },
    {
      "cell_type": "code",
      "source": [
        "krishna=Child()"
      ],
      "metadata": {
        "colab": {
          "base_uri": "https://localhost:8080/"
        },
        "id": "HNn7H_QmWR6u",
        "outputId": "7239783d-4d25-453d-eee0-08fb5a15cc7d"
      },
      "execution_count": null,
      "outputs": [
        {
          "output_type": "stream",
          "name": "stdout",
          "text": [
            "I want to become AI\n"
          ]
        }
      ]
    },
    {
      "cell_type": "code",
      "source": [
        "class Dada:\n",
        "  def home(self):\n",
        "    print(\"Dada's home\")\n",
        "class Papa():\n",
        "  def __init__(self):\n",
        "    print(\"Business man, Truck\")\n",
        "  def laptop(self):\n",
        "    print(\"papa's laptop\")\n",
        "class Mom():\n",
        "  def __init__(self):\n",
        "    print(\"My son will become a cricketer\")\n",
        "\n",
        "  def cooking(self):\n",
        "    print(\"mom's department\")\n",
        "    \n",
        "class Child(Papa,Mom):\n",
        "  def __init__(self):\n",
        "    super().__init__()\n",
        "    print(\"I want to become AI\")\n"
      ],
      "metadata": {
        "id": "bQ1xkXXpWUOl"
      },
      "execution_count": null,
      "outputs": []
    },
    {
      "cell_type": "code",
      "source": [
        "krishna=Child()"
      ],
      "metadata": {
        "colab": {
          "base_uri": "https://localhost:8080/"
        },
        "id": "TYv0ZzedZj6G",
        "outputId": "66beaefe-e8a2-4cf1-bc6d-a504aa9451c5"
      },
      "execution_count": null,
      "outputs": [
        {
          "output_type": "stream",
          "name": "stdout",
          "text": [
            "Business man, Truck\n",
            "I want to become AI\n"
          ]
        }
      ]
    },
    {
      "cell_type": "code",
      "source": [
        "class Dada:\n",
        "  def home(self):\n",
        "    print(\"Dada's home\")\n",
        "class Papa():\n",
        "  def __init__(self):\n",
        "    print(\"Business man, Truck\")\n",
        "  def laptop(self):\n",
        "    print(\"papa's laptop\")\n",
        "class Mom(Papa):\n",
        "  def __init__(self):\n",
        "    super().__init__()\n",
        "    print(\"My son will become a cricketer\")\n",
        "\n",
        "  def cooking(self):\n",
        "    print(\"mom's department\")\n",
        "    \n",
        "class Child(Mom,Papa):\n",
        "  def __init__(self):\n",
        "    super().__init__()\n",
        "    print(\"I want to become AI\")\n"
      ],
      "metadata": {
        "id": "ukvcAr8QaD-0"
      },
      "execution_count": null,
      "outputs": []
    },
    {
      "cell_type": "code",
      "source": [
        "class Dada:\n",
        "  def __init__(self):\n",
        "    print(\"My grandchild will become DM\")\n",
        "  def home(self):\n",
        "    print(\"Dada's home\")\n",
        "class Papa(Dada):\n",
        "  def __init__(self):\n",
        "    super().__init__()\n",
        "    print(\"Business man, Truck\")\n",
        "  def laptop(self):\n",
        "    print(\"papa's laptop\")\n",
        "class Mom(Papa):\n",
        "  def __init__(self):\n",
        "    super().__init__()\n",
        "    print(\"My son will become a cricketer\")\n",
        "\n",
        "  def cooking(self):\n",
        "    print(\"mom's department\")\n",
        "    \n",
        "class Child(Mom,Papa):\n",
        "  def __init__(self):\n",
        "    print(\"I want to become AI\")\n"
      ],
      "metadata": {
        "id": "wKqfGslDaigl"
      },
      "execution_count": null,
      "outputs": []
    },
    {
      "cell_type": "code",
      "source": [
        "krishna=Child()"
      ],
      "metadata": {
        "colab": {
          "base_uri": "https://localhost:8080/"
        },
        "id": "SdCn2zXLdVoM",
        "outputId": "a28b0d89-75b5-40f1-eb44-55edca9bd662"
      },
      "execution_count": null,
      "outputs": [
        {
          "output_type": "stream",
          "name": "stdout",
          "text": [
            "I want to become AI\n"
          ]
        }
      ]
    },
    {
      "cell_type": "code",
      "source": [
        "class Dada:\n",
        "  def __init__(self):\n",
        "    print(\"My grandchild will become DM\")\n",
        "  def home(self):\n",
        "    print(\"Dada's home\")\n",
        "class Papa(Dada):\n",
        "  def __init__(self):\n",
        "    super().__init__()\n",
        "    print(\"Business man, Truck\")\n",
        "  def laptop(self):\n",
        "    print(\"papa's laptop\")\n",
        "class Mom(Papa):\n",
        "  def __init__(self):\n",
        "    super().__init__()\n",
        "    print(\"My son will become a cricketer\")\n",
        "\n",
        "  def cooking(self):\n",
        "    print(\"mom's department\")\n",
        "    \n",
        "class Child(Mom,Papa):\n",
        "  pass "
      ],
      "metadata": {
        "id": "IlNzaDiWdd_o"
      },
      "execution_count": null,
      "outputs": []
    },
    {
      "cell_type": "code",
      "source": [
        "krishna=Child()"
      ],
      "metadata": {
        "id": "7ICV7UiveMTg",
        "outputId": "cea19b7d-96ad-45d0-9aec-4f8c5062a2d1",
        "colab": {
          "base_uri": "https://localhost:8080/"
        }
      },
      "execution_count": null,
      "outputs": [
        {
          "output_type": "stream",
          "name": "stdout",
          "text": [
            "My grandchild will become DM\n",
            "Business man, Truck\n",
            "My son will become a cricketer\n"
          ]
        }
      ]
    },
    {
      "cell_type": "code",
      "source": [
        "from abc import ABC, abstractmethod"
      ],
      "metadata": {
        "id": "n4ew-3b-lzTj"
      },
      "execution_count": null,
      "outputs": []
    },
    {
      "cell_type": "code",
      "source": [
        "# import abc as ABC\n",
        "from abc import ABC,abstractmethod\n",
        "class Atm(ABC):\n",
        "  @abstractmethod\n",
        "  def deposit(self):\n",
        "    pass\n",
        "    print(\"need databases connection\")\n",
        "  @abstractmethod\n",
        "  def balance_enquiry(self):\n",
        "    pass\n",
        "    # please dont reflect balance without pin\n",
        "  @abstractmethod\n",
        "  def fund_transfer(self):\n",
        "    pass\n",
        "  @abstractmethod\n",
        "  def exit(self):\n",
        "    pass"
      ],
      "metadata": {
        "id": "4rDjA3SPeOi1"
      },
      "execution_count": null,
      "outputs": []
    },
    {
      "cell_type": "code",
      "source": [
        "krishna=Atm()"
      ],
      "metadata": {
        "colab": {
          "base_uri": "https://localhost:8080/",
          "height": 190
        },
        "id": "1sJCMGdakMhi",
        "outputId": "110b393d-97db-42f5-a6a0-99219f62df6c"
      },
      "execution_count": null,
      "outputs": [
        {
          "output_type": "error",
          "ename": "TypeError",
          "evalue": "ignored",
          "traceback": [
            "\u001b[0;31m---------------------------------------------------------------------------\u001b[0m",
            "\u001b[0;31mTypeError\u001b[0m                                 Traceback (most recent call last)",
            "\u001b[0;32m<ipython-input-14-8e9fc330fe52>\u001b[0m in \u001b[0;36m<module>\u001b[0;34m\u001b[0m\n\u001b[0;32m----> 1\u001b[0;31m \u001b[0mkrishna\u001b[0m\u001b[0;34m=\u001b[0m\u001b[0mAtm\u001b[0m\u001b[0;34m(\u001b[0m\u001b[0;34m)\u001b[0m\u001b[0;34m\u001b[0m\u001b[0;34m\u001b[0m\u001b[0m\n\u001b[0m",
            "\u001b[0;31mTypeError\u001b[0m: Can't instantiate abstract class Atm with abstract methods balance_enquiry, deposit, exit, fund_transfer"
          ]
        }
      ]
    },
    {
      "cell_type": "code",
      "source": [
        "class atm(Atm):\n",
        "  def exit(self):\n",
        "    print(\"thank you to banking with us\")\n",
        "  def deposit(self):\n",
        "    print(\"Welcome to deposite section\")\n"
      ],
      "metadata": {
        "id": "IAJ7Do1wkQJv"
      },
      "execution_count": null,
      "outputs": []
    },
    {
      "cell_type": "code",
      "source": [
        "krishna=atm()"
      ],
      "metadata": {
        "colab": {
          "base_uri": "https://localhost:8080/",
          "height": 171
        },
        "id": "mXFw_4kxgjCz",
        "outputId": "245a3111-6620-46b6-86a7-280839bbc656"
      },
      "execution_count": null,
      "outputs": [
        {
          "output_type": "error",
          "ename": "TypeError",
          "evalue": "ignored",
          "traceback": [
            "\u001b[0;31m---------------------------------------------------------------------------\u001b[0m",
            "\u001b[0;31mTypeError\u001b[0m                                 Traceback (most recent call last)",
            "\u001b[0;32m<ipython-input-17-43b3592d33c2>\u001b[0m in \u001b[0;36m<module>\u001b[0;34m\u001b[0m\n\u001b[0;32m----> 1\u001b[0;31m \u001b[0mkrishna\u001b[0m\u001b[0;34m=\u001b[0m\u001b[0matm\u001b[0m\u001b[0;34m(\u001b[0m\u001b[0;34m)\u001b[0m\u001b[0;34m\u001b[0m\u001b[0;34m\u001b[0m\u001b[0m\n\u001b[0m",
            "\u001b[0;31mTypeError\u001b[0m: Can't instantiate abstract class atm with abstract methods balance_enquiry, fund_transfer"
          ]
        }
      ]
    },
    {
      "cell_type": "markdown",
      "source": [
        "# polymorphism\n",
        "\n",
        "> constructor overloading(python doesnot support)\n",
        "\n",
        "> constructor overriding(python doesnot support)\n",
        "\n",
        "> method overloading(python doesnot support )\n",
        "\n",
        "> method overriding (python support)"
      ],
      "metadata": {
        "id": "ANm6u4I6gl08"
      }
    },
    {
      "cell_type": "code",
      "source": [
        "a=10"
      ],
      "metadata": {
        "id": "-dMvYZMvirUw"
      },
      "execution_count": null,
      "outputs": []
    },
    {
      "cell_type": "code",
      "source": [
        "a=20"
      ],
      "metadata": {
        "id": "QjGiRpL-n-px"
      },
      "execution_count": null,
      "outputs": []
    },
    {
      "cell_type": "code",
      "source": [
        "a"
      ],
      "metadata": {
        "colab": {
          "base_uri": "https://localhost:8080/"
        },
        "id": "GobiodAEoAYY",
        "outputId": "ae2987de-047d-4689-ca3b-cd4b8be6cf50"
      },
      "execution_count": null,
      "outputs": [
        {
          "output_type": "execute_result",
          "data": {
            "text/plain": [
              "20"
            ]
          },
          "metadata": {},
          "execution_count": 20
        }
      ]
    },
    {
      "cell_type": "code",
      "source": [
        "class abc:\n",
        "  def sum(krishna,a,b):\n",
        "    print(a+b)\n",
        "  def sum(krishna,a,b,c):\n",
        "    print(a+b+c)"
      ],
      "metadata": {
        "id": "Uvqd-0LboAm_"
      },
      "execution_count": null,
      "outputs": []
    },
    {
      "cell_type": "code",
      "source": [
        "self=abc()"
      ],
      "metadata": {
        "id": "F68Yvy42oVEo"
      },
      "execution_count": null,
      "outputs": []
    },
    {
      "cell_type": "code",
      "source": [
        "self.sum(2,3)"
      ],
      "metadata": {
        "colab": {
          "base_uri": "https://localhost:8080/",
          "height": 171
        },
        "id": "NX2hglYMoY2_",
        "outputId": "f1297702-d224-4b44-f336-f652f6fda8bc"
      },
      "execution_count": null,
      "outputs": [
        {
          "output_type": "error",
          "ename": "TypeError",
          "evalue": "ignored",
          "traceback": [
            "\u001b[0;31m---------------------------------------------------------------------------\u001b[0m",
            "\u001b[0;31mTypeError\u001b[0m                                 Traceback (most recent call last)",
            "\u001b[0;32m<ipython-input-25-581040e9aea9>\u001b[0m in \u001b[0;36m<module>\u001b[0;34m\u001b[0m\n\u001b[0;32m----> 1\u001b[0;31m \u001b[0mself\u001b[0m\u001b[0;34m.\u001b[0m\u001b[0msum\u001b[0m\u001b[0;34m(\u001b[0m\u001b[0;36m2\u001b[0m\u001b[0;34m,\u001b[0m\u001b[0;36m3\u001b[0m\u001b[0;34m)\u001b[0m\u001b[0;34m\u001b[0m\u001b[0;34m\u001b[0m\u001b[0m\n\u001b[0m",
            "\u001b[0;31mTypeError\u001b[0m: sum() missing 1 required positional argument: 'c'"
          ]
        }
      ]
    },
    {
      "cell_type": "code",
      "source": [
        "self.sum(2,3,4)"
      ],
      "metadata": {
        "colab": {
          "base_uri": "https://localhost:8080/"
        },
        "id": "cdx8huKKogrI",
        "outputId": "f98d372a-fd9c-4e41-b7fa-60119e3b73d0"
      },
      "execution_count": null,
      "outputs": [
        {
          "output_type": "stream",
          "name": "stdout",
          "text": [
            "9\n"
          ]
        }
      ]
    },
    {
      "cell_type": "code",
      "source": [
        "class abc:\n",
        "  def sum(krishna,a,b,c=0):\n",
        "    print(a+b+c)"
      ],
      "metadata": {
        "id": "kN4Ghx59oqOO"
      },
      "execution_count": null,
      "outputs": []
    },
    {
      "cell_type": "code",
      "source": [
        "a=abc()"
      ],
      "metadata": {
        "id": "4HRewAatovYe"
      },
      "execution_count": null,
      "outputs": []
    },
    {
      "cell_type": "code",
      "source": [
        "a.sum(2,3)"
      ],
      "metadata": {
        "colab": {
          "base_uri": "https://localhost:8080/"
        },
        "id": "CImKVcMMozN-",
        "outputId": "4ea1c6f3-20a7-49c9-b505-bae0d727bce3"
      },
      "execution_count": null,
      "outputs": [
        {
          "output_type": "stream",
          "name": "stdout",
          "text": [
            "5\n"
          ]
        }
      ]
    },
    {
      "cell_type": "code",
      "source": [
        "sum([10,20,30,40,50])"
      ],
      "metadata": {
        "colab": {
          "base_uri": "https://localhost:8080/"
        },
        "id": "Nqj74cIJo2TI",
        "outputId": "3048f0ed-2c2d-441c-f166-2a61248a41cf"
      },
      "execution_count": null,
      "outputs": [
        {
          "output_type": "execute_result",
          "data": {
            "text/plain": [
              "150"
            ]
          },
          "metadata": {},
          "execution_count": 30
        }
      ]
    },
    {
      "cell_type": "code",
      "source": [
        "def sum1(*a):\n",
        "  cont=0\n",
        "  for i in a:\n",
        "    cont=cont+i\n",
        "  print(cont)"
      ],
      "metadata": {
        "id": "JLPYnO1mpUe_"
      },
      "execution_count": null,
      "outputs": []
    },
    {
      "cell_type": "code",
      "source": [
        "sum1(1,2,3,4,5,6,7,8,9,906,5,4,33,3,3)"
      ],
      "metadata": {
        "colab": {
          "base_uri": "https://localhost:8080/"
        },
        "id": "-ldl7rH2p9wP",
        "outputId": "e91f382d-9132-4e91-8a87-86d2ee618677"
      },
      "execution_count": null,
      "outputs": [
        {
          "output_type": "stream",
          "name": "stdout",
          "text": [
            "999\n"
          ]
        }
      ]
    },
    {
      "cell_type": "code",
      "source": [
        "def sum2(a):\n",
        "  b=0\n",
        "  a=[b+=i for i in a]\n",
        "  return a "
      ],
      "metadata": {
        "colab": {
          "base_uri": "https://localhost:8080/",
          "height": 135
        },
        "id": "yqu2NZSvqBQc",
        "outputId": "8be7d978-f8d8-48b3-ff49-a0c82b02f66c"
      },
      "execution_count": null,
      "outputs": [
        {
          "output_type": "error",
          "ename": "SyntaxError",
          "evalue": "ignored",
          "traceback": [
            "\u001b[0;36m  File \u001b[0;32m\"<ipython-input-49-05f3f829ee6a>\"\u001b[0;36m, line \u001b[0;32m3\u001b[0m\n\u001b[0;31m    a=[b+=i for i in a]\u001b[0m\n\u001b[0m         ^\u001b[0m\n\u001b[0;31mSyntaxError\u001b[0m\u001b[0;31m:\u001b[0m invalid syntax\n"
          ]
        }
      ]
    },
    {
      "cell_type": "code",
      "source": [
        "sum2([1,2,3,4,5,6,7,8,9,906,5,4,33,3,3])"
      ],
      "metadata": {
        "colab": {
          "base_uri": "https://localhost:8080/"
        },
        "id": "CB_oVlOpqP3v",
        "outputId": "f3daf51b-f29d-4623-ab5b-2207aac13db4"
      },
      "execution_count": null,
      "outputs": [
        {
          "output_type": "stream",
          "name": "stdout",
          "text": [
            "999\n"
          ]
        }
      ]
    },
    {
      "cell_type": "code",
      "source": [
        "def sum2(a):\n",
        "  print(sum(a))"
      ],
      "metadata": {
        "id": "vufzbj0qqRXv"
      },
      "execution_count": null,
      "outputs": []
    },
    {
      "cell_type": "code",
      "source": [
        "sum2([1,2,3,4,5,6,7,8,9,906.9999999,5,4,33,3,3])"
      ],
      "metadata": {
        "colab": {
          "base_uri": "https://localhost:8080/"
        },
        "id": "ocqxSEEFqu6A",
        "outputId": "58716db1-3abf-4238-d6e4-4c873833158c"
      },
      "execution_count": null,
      "outputs": [
        {
          "output_type": "stream",
          "name": "stdout",
          "text": [
            "999.9999999\n"
          ]
        }
      ]
    },
    {
      "cell_type": "code",
      "source": [
        "import random\n",
        "class Atm:\n",
        "  \n",
        "  def __init__(self):\n",
        "    \n",
        "    self.pin=\"1234\"\n",
        "    self.balance=100000\n",
        "    self.menu()\n",
        "  def menu(self):                             \n",
        "    print(\"\"\"welcome to HDFC Bank ATM\n",
        "    Here is your options:\n",
        "    \n",
        "    1. change pin\n",
        "    2. set Balance\n",
        "    3. Balance enquiry\n",
        "    4. withdrawal\n",
        "    5. Exit\n",
        "    \"\"\")\n",
        "    self.a=input()\n",
        "    if self.a==\"1\":\n",
        "      self.change_pin()\n",
        "    elif self.a==\"2\":\n",
        "      self.set_balance()\n",
        "    elif self.a==\"3\":\n",
        "      self.balance_enquiry()\n",
        "    elif self.a==\"4\":\n",
        "      self.withdrawal()\n",
        "      \n",
        "    elif self.a==\"5\":\n",
        "      self.exit()\n",
        "      #print(\"Thankyou for banking with us\")\n",
        "\n",
        "    else:\n",
        "      print(\"Kindly chood a valid option\")\n",
        "\n",
        "  def change_pin(self):\n",
        "      print(\"Welcome to change pin section\")\n",
        "      set_pin=input(\"please enter your pin:\")\n",
        "      set_pin=input(\"please enter your confirm pin:\")\n",
        "      self.pin=set_pin\n",
        "      print(\"Your pin successfully updated\")\n",
        "      print(\"your new pin is:{}\".format(self.pin))\n",
        "      self.menu()\n",
        "\n",
        "  def set_balance(self):\n",
        "      print(\"Welcome to set balance section\")\n",
        "      set_bal=int(input(\"Kindly Set your balance:\"))\n",
        "      self.balance= self.balance+set_bal \n",
        "      print(\"Your available balance is:{}\".format(self.balance))                                \n",
        "      self.menu()\n",
        "\n",
        "\n",
        "  def balance_enquiry(self):\n",
        "      print(\"Your available balance is:{}\".format(self.balance))                     \n",
        "      self.menu()\n",
        "\n",
        "\n",
        "  def withdrawal(self):\n",
        "    print(\"Welcome to withdrawa section\")   \n",
        "    input_pin = (input(\"Please enter your 4-digit PIN > \"))\n",
        "    if input_pin == self.pin:\n",
        "        print(\"Account auhtorized!\\n\\n\")\n",
        "                \n",
        "        set_withdrawal=int(input(\"kinldy enter your withdrawal amount:\"))\n",
        "        print(\"please wait your transaction is being processed \")\n",
        "        print(\"please collect your money\")\n",
        "        print(\"Avaiable balance is:{}\".format(self.balance-set_withdrawal))\n",
        "        print(\"\"\"printing receipt..............\n",
        "              **************\n",
        "                  Transaction is now complete.                         \n",
        "                  Transaction number: {} \"\"\".format(random.randint(99999999,999999999)))\n",
        "        \n",
        "    self.menu() \n",
        "    \n",
        "  \n",
        "\n",
        "  def exit(self):\n",
        "      print(\"Thankyou for banking with us\")"
      ],
      "metadata": {
        "id": "j7YtMrwjqwgH"
      },
      "execution_count": null,
      "outputs": []
    },
    {
      "cell_type": "code",
      "source": [
        "krishna=Atm()"
      ],
      "metadata": {
        "colab": {
          "base_uri": "https://localhost:8080/"
        },
        "id": "9ZZDXY5otu25",
        "outputId": "5a128aed-d448-48aa-b92e-77193c07392e"
      },
      "execution_count": null,
      "outputs": [
        {
          "output_type": "stream",
          "name": "stdout",
          "text": [
            "welcome to HDFC Bank ATM\n",
            "    Here is your options:\n",
            "    \n",
            "    1. change pin\n",
            "    2. set Balance\n",
            "    3. Balance enquiry\n",
            "    4. withdrawal\n",
            "    5. Exit\n",
            "    \n",
            "4\n",
            "Welcome to withdrawa section\n",
            "Please enter your 4-digit PIN > 1234\n",
            "Account auhtorized!\n",
            "\n",
            "\n",
            "kinldy enter your withdrawal amount:5000\n",
            "please wait your transaction is being processed \n",
            "please collect your money\n",
            "Avaiable balance is:95000\n",
            "printing receipt..............\n",
            "              **************\n",
            "                  Transaction is now complete.                         \n",
            "                  Transaction number: 979099162 \n",
            "welcome to HDFC Bank ATM\n",
            "    Here is your options:\n",
            "    \n",
            "    1. change pin\n",
            "    2. set Balance\n",
            "    3. Balance enquiry\n",
            "    4. withdrawal\n",
            "    5. Exit\n",
            "    \n",
            "5\n",
            "Thankyou for banking with us\n"
          ]
        }
      ]
    },
    {
      "cell_type": "code",
      "source": [
        "import random"
      ],
      "metadata": {
        "id": "SbXgr_0GtxiZ"
      },
      "execution_count": null,
      "outputs": []
    },
    {
      "cell_type": "code",
      "source": [
        "random.randint(99999999,999999999)"
      ],
      "metadata": {
        "colab": {
          "base_uri": "https://localhost:8080/"
        },
        "id": "eMbNvYMeu46Z",
        "outputId": "9f929556-1fcb-4a11-b812-6ba0052d4c0d"
      },
      "execution_count": null,
      "outputs": [
        {
          "output_type": "execute_result",
          "data": {
            "text/plain": [
              "901399162"
            ]
          },
          "metadata": {},
          "execution_count": 60
        }
      ]
    },
    {
      "cell_type": "code",
      "source": [
        "Array\n",
        "scope\n",
        "\n",
        "standard modules\n",
        "math\n",
        "os\n",
        "shuttle\n",
        "random\n",
        "time\n",
        "\n",
        "\n",
        "file system\n",
        "json\n",
        "csv\n",
        "excel \n",
        "database\n",
        "\n",
        "\n",
        "RegEx\n",
        "\n",
        "Try except finally \n",
        "\n",
        "\n",
        "file handling \n"
      ],
      "metadata": {
        "id": "IazBuiNKu8Oh",
        "colab": {
          "base_uri": "https://localhost:8080/",
          "height": 130
        },
        "outputId": "a43bc97b-e006-4ff6-d8e7-c628124d4b3c"
      },
      "execution_count": null,
      "outputs": [
        {
          "output_type": "error",
          "ename": "SyntaxError",
          "evalue": "ignored",
          "traceback": [
            "\u001b[0;36m  File \u001b[0;32m\"<ipython-input-1-eef63d4d27d3>\"\u001b[0;36m, line \u001b[0;32m4\u001b[0m\n\u001b[0;31m    standard modules\u001b[0m\n\u001b[0m                   ^\u001b[0m\n\u001b[0;31mSyntaxError\u001b[0m\u001b[0;31m:\u001b[0m invalid syntax\n"
          ]
        }
      ]
    },
    {
      "cell_type": "code",
      "source": [
        "(2/3)+(2/4)    # will create a datatype using OOP as project"
      ],
      "metadata": {
        "colab": {
          "base_uri": "https://localhost:8080/"
        },
        "id": "j1RA1FcmZdId",
        "outputId": "645bf9c6-cca6-4754-d7a0-c7611c3d796a"
      },
      "execution_count": null,
      "outputs": [
        {
          "output_type": "execute_result",
          "data": {
            "text/plain": [
              "1.1666666666666665"
            ]
          },
          "metadata": {},
          "execution_count": 3
        }
      ]
    },
    {
      "cell_type": "markdown",
      "source": [
        "# Array"
      ],
      "metadata": {
        "id": "8GmqUbupZg58"
      }
    },
    {
      "cell_type": "code",
      "source": [
        "import array"
      ],
      "metadata": {
        "id": "N6MaeG6_aeh7"
      },
      "execution_count": null,
      "outputs": []
    },
    {
      "cell_type": "code",
      "source": [
        "array.array('i',[-1,2,3,4])"
      ],
      "metadata": {
        "colab": {
          "base_uri": "https://localhost:8080/"
        },
        "id": "keL2K6uRcLl0",
        "outputId": "969d5bb2-7d55-4974-b150-dc141c55f51d"
      },
      "execution_count": null,
      "outputs": [
        {
          "output_type": "execute_result",
          "data": {
            "text/plain": [
              "array('i', [-1, 2, 3, 4])"
            ]
          },
          "metadata": {},
          "execution_count": 8
        }
      ]
    },
    {
      "cell_type": "code",
      "source": [
        "array.array('I',[-1,2,3,4])"
      ],
      "metadata": {
        "colab": {
          "base_uri": "https://localhost:8080/",
          "height": 165
        },
        "id": "KfG9Fxv5cUNc",
        "outputId": "39b8fe91-a6f2-46bc-c557-54bb55616547"
      },
      "execution_count": null,
      "outputs": [
        {
          "output_type": "error",
          "ename": "OverflowError",
          "evalue": "ignored",
          "traceback": [
            "\u001b[0;31m---------------------------------------------------------------------------\u001b[0m",
            "\u001b[0;31mOverflowError\u001b[0m                             Traceback (most recent call last)",
            "\u001b[0;32m<ipython-input-9-206816533443>\u001b[0m in \u001b[0;36m<module>\u001b[0;34m\u001b[0m\n\u001b[0;32m----> 1\u001b[0;31m \u001b[0marray\u001b[0m\u001b[0;34m.\u001b[0m\u001b[0marray\u001b[0m\u001b[0;34m(\u001b[0m\u001b[0;34m'I'\u001b[0m\u001b[0;34m,\u001b[0m\u001b[0;34m[\u001b[0m\u001b[0;34m-\u001b[0m\u001b[0;36m1\u001b[0m\u001b[0;34m,\u001b[0m\u001b[0;36m2\u001b[0m\u001b[0;34m,\u001b[0m\u001b[0;36m3\u001b[0m\u001b[0;34m,\u001b[0m\u001b[0;36m4\u001b[0m\u001b[0;34m]\u001b[0m\u001b[0;34m)\u001b[0m\u001b[0;34m\u001b[0m\u001b[0;34m\u001b[0m\u001b[0m\n\u001b[0m",
            "\u001b[0;31mOverflowError\u001b[0m: can't convert negative value to unsigned int"
          ]
        }
      ]
    },
    {
      "cell_type": "code",
      "source": [
        "array.array('I',[1,2,3,4,255])"
      ],
      "metadata": {
        "colab": {
          "base_uri": "https://localhost:8080/"
        },
        "id": "1IYxY7CKdfIl",
        "outputId": "f822f12e-53fb-4ad8-cfa5-9d902ec4a7ae"
      },
      "execution_count": null,
      "outputs": [
        {
          "output_type": "execute_result",
          "data": {
            "text/plain": [
              "array('I', [1, 2, 3, 4, 255])"
            ]
          },
          "metadata": {},
          "execution_count": 11
        }
      ]
    },
    {
      "cell_type": "code",
      "source": [
        "array.array('I',[1,2,3,4,3423423])"
      ],
      "metadata": {
        "colab": {
          "base_uri": "https://localhost:8080/"
        },
        "id": "FQKIwSoMeKJl",
        "outputId": "e53ec649-6b91-4a75-d6f1-6963d0e0dd07"
      },
      "execution_count": null,
      "outputs": [
        {
          "output_type": "execute_result",
          "data": {
            "text/plain": [
              "array('I', [1, 2, 3, 4, 3423423])"
            ]
          },
          "metadata": {},
          "execution_count": 14
        }
      ]
    },
    {
      "cell_type": "code",
      "source": [
        "import numpy as np"
      ],
      "metadata": {
        "id": "Tz03VLmweO9u"
      },
      "execution_count": null,
      "outputs": []
    },
    {
      "cell_type": "code",
      "source": [
        "print(type(np.array([1,2,3,4,5])))"
      ],
      "metadata": {
        "colab": {
          "base_uri": "https://localhost:8080/"
        },
        "id": "7yiozjrieusu",
        "outputId": "7dcd1528-bd51-43b7-96da-dbd2aa248451"
      },
      "execution_count": null,
      "outputs": [
        {
          "output_type": "stream",
          "name": "stdout",
          "text": [
            "<class 'numpy.ndarray'>\n"
          ]
        }
      ]
    },
    {
      "cell_type": "code",
      "source": [
        "np.array([1,2,3,4,'krishna'])"
      ],
      "metadata": {
        "colab": {
          "base_uri": "https://localhost:8080/"
        },
        "id": "Xkw1f6nje1AX",
        "outputId": "816b141a-00d8-456c-bb18-9dfdc8be6d8f"
      },
      "execution_count": null,
      "outputs": [
        {
          "output_type": "execute_result",
          "data": {
            "text/plain": [
              "array(['1', '2', '3', '4', 'krishna'], dtype='<U21')"
            ]
          },
          "metadata": {},
          "execution_count": 21
        }
      ]
    },
    {
      "cell_type": "code",
      "source": [
        "np.array([1,2,3,4,'krishna'],dtype=np.int8)"
      ],
      "metadata": {
        "colab": {
          "base_uri": "https://localhost:8080/",
          "height": 165
        },
        "id": "dQd6EduFfY68",
        "outputId": "3d1ba68e-f7bf-4904-e3e0-9dc3b52cea2c"
      },
      "execution_count": null,
      "outputs": [
        {
          "output_type": "error",
          "ename": "ValueError",
          "evalue": "ignored",
          "traceback": [
            "\u001b[0;31m---------------------------------------------------------------------------\u001b[0m",
            "\u001b[0;31mValueError\u001b[0m                                Traceback (most recent call last)",
            "\u001b[0;32m<ipython-input-22-1337d2d279bb>\u001b[0m in \u001b[0;36m<module>\u001b[0;34m\u001b[0m\n\u001b[0;32m----> 1\u001b[0;31m \u001b[0mnp\u001b[0m\u001b[0;34m.\u001b[0m\u001b[0marray\u001b[0m\u001b[0;34m(\u001b[0m\u001b[0;34m[\u001b[0m\u001b[0;36m1\u001b[0m\u001b[0;34m,\u001b[0m\u001b[0;36m2\u001b[0m\u001b[0;34m,\u001b[0m\u001b[0;36m3\u001b[0m\u001b[0;34m,\u001b[0m\u001b[0;36m4\u001b[0m\u001b[0;34m,\u001b[0m\u001b[0;34m'krishna'\u001b[0m\u001b[0;34m]\u001b[0m\u001b[0;34m,\u001b[0m\u001b[0mdtype\u001b[0m\u001b[0;34m=\u001b[0m\u001b[0mnp\u001b[0m\u001b[0;34m.\u001b[0m\u001b[0mint8\u001b[0m\u001b[0;34m)\u001b[0m\u001b[0;34m\u001b[0m\u001b[0;34m\u001b[0m\u001b[0m\n\u001b[0m",
            "\u001b[0;31mValueError\u001b[0m: invalid literal for int() with base 10: 'krishna'"
          ]
        }
      ]
    },
    {
      "cell_type": "code",
      "source": [
        "np.array([1,2,3,324324000,'10'],dtype=np.int8)"
      ],
      "metadata": {
        "colab": {
          "base_uri": "https://localhost:8080/"
        },
        "id": "Eg1I18PKf24O",
        "outputId": "d9beea24-be26-430f-faa6-ba83600ae2fe"
      },
      "execution_count": null,
      "outputs": [
        {
          "output_type": "execute_result",
          "data": {
            "text/plain": [
              "array([  1,   2,   3, -96,  10], dtype=int8)"
            ]
          },
          "metadata": {},
          "execution_count": 36
        }
      ]
    },
    {
      "cell_type": "code",
      "source": [
        "print(np.array([1,2,3,4,'10'],dtype=np.str_))"
      ],
      "metadata": {
        "colab": {
          "base_uri": "https://localhost:8080/"
        },
        "id": "6bj3PKZ8f9-e",
        "outputId": "aa2972bd-e619-4c02-b40e-2c72336b5e86"
      },
      "execution_count": null,
      "outputs": [
        {
          "output_type": "stream",
          "name": "stdout",
          "text": [
            "['1' '2' '3' '4' '10']\n"
          ]
        }
      ]
    },
    {
      "cell_type": "code",
      "source": [
        "a=[i for i in range(100)]"
      ],
      "metadata": {
        "id": "BLqPX2oFgIc-"
      },
      "execution_count": null,
      "outputs": []
    },
    {
      "cell_type": "code",
      "source": [
        "print(a)"
      ],
      "metadata": {
        "colab": {
          "base_uri": "https://localhost:8080/"
        },
        "id": "JeK85hEDghG3",
        "outputId": "e743bcf6-80fe-484e-a96c-043543901d26"
      },
      "execution_count": null,
      "outputs": [
        {
          "output_type": "stream",
          "name": "stdout",
          "text": [
            "[0, 1, 2, 3, 4, 5, 6, 7, 8, 9, 10, 11, 12, 13, 14, 15, 16, 17, 18, 19, 20, 21, 22, 23, 24, 25, 26, 27, 28, 29, 30, 31, 32, 33, 34, 35, 36, 37, 38, 39, 40, 41, 42, 43, 44, 45, 46, 47, 48, 49, 50, 51, 52, 53, 54, 55, 56, 57, 58, 59, 60, 61, 62, 63, 64, 65, 66, 67, 68, 69, 70, 71, 72, 73, 74, 75, 76, 77, 78, 79, 80, 81, 82, 83, 84, 85, 86, 87, 88, 89, 90, 91, 92, 93, 94, 95, 96, 97, 98, 99]\n"
          ]
        }
      ]
    },
    {
      "cell_type": "code",
      "source": [
        "b=np.array([i for i in range(100)])"
      ],
      "metadata": {
        "id": "Q0CsObaPghdO"
      },
      "execution_count": null,
      "outputs": []
    },
    {
      "cell_type": "code",
      "source": [
        "print(b)"
      ],
      "metadata": {
        "colab": {
          "base_uri": "https://localhost:8080/"
        },
        "id": "gAykxsEagqz3",
        "outputId": "3f50d026-a0a6-4f21-fa69-cfc0696b801d"
      },
      "execution_count": null,
      "outputs": [
        {
          "output_type": "stream",
          "name": "stdout",
          "text": [
            "[ 0  1  2  3  4  5  6  7  8  9 10 11 12 13 14 15 16 17 18 19 20 21 22 23\n",
            " 24 25 26 27 28 29 30 31 32 33 34 35 36 37 38 39 40 41 42 43 44 45 46 47\n",
            " 48 49 50 51 52 53 54 55 56 57 58 59 60 61 62 63 64 65 66 67 68 69 70 71\n",
            " 72 73 74 75 76 77 78 79 80 81 82 83 84 85 86 87 88 89 90 91 92 93 94 95\n",
            " 96 97 98 99]\n"
          ]
        }
      ]
    },
    {
      "cell_type": "code",
      "source": [
        "import sys"
      ],
      "metadata": {
        "id": "qIoHMIAXgtjI"
      },
      "execution_count": null,
      "outputs": []
    },
    {
      "cell_type": "code",
      "source": [
        "sys.getsizeof(a)"
      ],
      "metadata": {
        "colab": {
          "base_uri": "https://localhost:8080/"
        },
        "id": "A40k2ShUgxB_",
        "outputId": "de155756-411c-4ccc-e7bb-1a942a41ae41"
      },
      "execution_count": null,
      "outputs": [
        {
          "output_type": "execute_result",
          "data": {
            "text/plain": [
              "920"
            ]
          },
          "metadata": {},
          "execution_count": 33
        }
      ]
    },
    {
      "cell_type": "code",
      "source": [
        "sys.getsizeof(b)"
      ],
      "metadata": {
        "colab": {
          "base_uri": "https://localhost:8080/"
        },
        "id": "HCDb7_Vfg3IH",
        "outputId": "d2c52ac7-b8a7-4b98-9b39-e41c2cbc49e5"
      },
      "execution_count": null,
      "outputs": [
        {
          "output_type": "execute_result",
          "data": {
            "text/plain": [
              "904"
            ]
          },
          "metadata": {},
          "execution_count": 34
        }
      ]
    },
    {
      "cell_type": "markdown",
      "source": [
        "# scope\n",
        "\n",
        "local scope \n",
        "\n",
        "global scope\n",
        "\n",
        "\n",
        "local variable\n",
        "\n",
        "\n",
        "global variable "
      ],
      "metadata": {
        "id": "dJOQIZiag-Fx"
      }
    },
    {
      "cell_type": "code",
      "source": [
        "def sum():\n",
        "  a=10\n",
        "  b=20\n",
        "  print(a+b)"
      ],
      "metadata": {
        "id": "-fXdjeoIjHCL"
      },
      "execution_count": null,
      "outputs": []
    },
    {
      "cell_type": "code",
      "source": [
        "sum()"
      ],
      "metadata": {
        "colab": {
          "base_uri": "https://localhost:8080/"
        },
        "id": "d6jpFcJ3jfoo",
        "outputId": "a7a1ff88-ffb1-4cc3-9202-28da1bbb392e"
      },
      "execution_count": null,
      "outputs": [
        {
          "output_type": "stream",
          "name": "stdout",
          "text": [
            "30\n"
          ]
        }
      ]
    },
    {
      "cell_type": "code",
      "source": [
        "print(a+b)"
      ],
      "metadata": {
        "colab": {
          "base_uri": "https://localhost:8080/"
        },
        "id": "YKpBsCBLjgFE",
        "outputId": "14725657-802a-4e07-928d-1b5ecf3f6f9d"
      },
      "execution_count": null,
      "outputs": [
        {
          "output_type": "stream",
          "name": "stdout",
          "text": [
            "30\n"
          ]
        }
      ]
    },
    {
      "cell_type": "code",
      "source": [
        "def sum():\n",
        "  global a,b\n",
        "  a=10\n",
        "  b=20\n",
        "  print(a+b)"
      ],
      "metadata": {
        "id": "x0XUuS1xjihX"
      },
      "execution_count": null,
      "outputs": []
    },
    {
      "cell_type": "code",
      "source": [
        "c=20\n",
        "d=40"
      ],
      "metadata": {
        "id": "yUrYRERIkHa4"
      },
      "execution_count": null,
      "outputs": []
    },
    {
      "cell_type": "code",
      "source": [
        "def sum2():\n",
        "  print(c+d)"
      ],
      "metadata": {
        "id": "FjWdpqYLkzzg"
      },
      "execution_count": null,
      "outputs": []
    },
    {
      "cell_type": "code",
      "source": [
        "sum2()"
      ],
      "metadata": {
        "colab": {
          "base_uri": "https://localhost:8080/"
        },
        "id": "x650L4K9k3jZ",
        "outputId": "193a9e43-64c0-4c9b-fdef-ac35b0cc232f"
      },
      "execution_count": null,
      "outputs": [
        {
          "output_type": "stream",
          "name": "stdout",
          "text": [
            "60\n"
          ]
        }
      ]
    },
    {
      "cell_type": "markdown",
      "source": [
        "# file handling"
      ],
      "metadata": {
        "id": "ZsKmuSTyk7J4"
      }
    },
    {
      "cell_type": "code",
      "source": [
        "f=open(\"/content/drive/MyDrive/Colab Notebooks/abc.txt\",\"x\")"
      ],
      "metadata": {
        "colab": {
          "base_uri": "https://localhost:8080/",
          "height": 183
        },
        "id": "fJyTOe0chUf1",
        "outputId": "91eeea69-21ae-4886-812b-84574e1397dd"
      },
      "execution_count": null,
      "outputs": [
        {
          "output_type": "error",
          "ename": "FileExistsError",
          "evalue": "ignored",
          "traceback": [
            "\u001b[0;31m---------------------------------------------------------------------------\u001b[0m",
            "\u001b[0;31mFileExistsError\u001b[0m                           Traceback (most recent call last)",
            "\u001b[0;32m<ipython-input-4-f76266de2da5>\u001b[0m in \u001b[0;36m<module>\u001b[0;34m\u001b[0m\n\u001b[0;32m----> 1\u001b[0;31m \u001b[0mf\u001b[0m\u001b[0;34m=\u001b[0m\u001b[0mopen\u001b[0m\u001b[0;34m(\u001b[0m\u001b[0;34m\"/content/drive/MyDrive/Colab Notebooks/abc.txt\"\u001b[0m\u001b[0;34m,\u001b[0m\u001b[0;34m\"x\"\u001b[0m\u001b[0;34m)\u001b[0m\u001b[0;34m\u001b[0m\u001b[0;34m\u001b[0m\u001b[0m\n\u001b[0m",
            "\u001b[0;31mFileExistsError\u001b[0m: [Errno 17] File exists: '/content/drive/MyDrive/Colab Notebooks/abc.txt'"
          ]
        }
      ]
    },
    {
      "cell_type": "code",
      "source": [
        "f.close()"
      ],
      "metadata": {
        "id": "B2Rxdhkuombu"
      },
      "execution_count": null,
      "outputs": []
    },
    {
      "cell_type": "code",
      "source": [
        "f1=open(\"/content/drive/MyDrive/Colab Notebooks/abc.txt\",\"w\")"
      ],
      "metadata": {
        "id": "73bd8WfMova7"
      },
      "execution_count": null,
      "outputs": []
    },
    {
      "cell_type": "code",
      "source": [
        "f1.close()"
      ],
      "metadata": {
        "id": "dMVp8ptep22x"
      },
      "execution_count": null,
      "outputs": []
    },
    {
      "cell_type": "code",
      "source": [
        "f2=open(\"/content/drive/MyDrive/Colab Notebooks/xyz.txt\",\"w\")"
      ],
      "metadata": {
        "id": "KgjE7R9WqEe9"
      },
      "execution_count": null,
      "outputs": []
    },
    {
      "cell_type": "code",
      "source": [
        "f2.write(\"Hi this is my first text file.\")"
      ],
      "metadata": {
        "colab": {
          "base_uri": "https://localhost:8080/"
        },
        "id": "YZGUxiJ7qLOk",
        "outputId": "cf503651-8cf7-458a-8ae1-1b2afd1e53e8"
      },
      "execution_count": null,
      "outputs": [
        {
          "output_type": "execute_result",
          "data": {
            "text/plain": [
              "30"
            ]
          },
          "metadata": {},
          "execution_count": 8
        }
      ]
    },
    {
      "cell_type": "code",
      "source": [
        "f2.close()"
      ],
      "metadata": {
        "id": "MePumUivqfU8"
      },
      "execution_count": null,
      "outputs": []
    },
    {
      "cell_type": "code",
      "source": [
        "f3=open(\"/content/drive/MyDrive/Colab Notebooks/xyz.xlxs\",\"w\")"
      ],
      "metadata": {
        "id": "6BVzK-eBqqgD"
      },
      "execution_count": null,
      "outputs": []
    },
    {
      "cell_type": "code",
      "source": [
        "f3.write(\"this is new text\")"
      ],
      "metadata": {
        "colab": {
          "base_uri": "https://localhost:8080/"
        },
        "id": "96q2xoBFrK9b",
        "outputId": "d3f03af6-97b8-4abe-ed6a-1cecfa3d44f4"
      },
      "execution_count": null,
      "outputs": [
        {
          "output_type": "execute_result",
          "data": {
            "text/plain": [
              "16"
            ]
          },
          "metadata": {},
          "execution_count": 11
        }
      ]
    },
    {
      "cell_type": "code",
      "source": [
        "f3.close()"
      ],
      "metadata": {
        "id": "hTfTDWzPrO7r"
      },
      "execution_count": null,
      "outputs": []
    },
    {
      "cell_type": "code",
      "source": [
        "import math as m"
      ],
      "metadata": {
        "id": "cni37D5vrWFU"
      },
      "execution_count": null,
      "outputs": []
    },
    {
      "cell_type": "code",
      "source": [
        "m.log(10)"
      ],
      "metadata": {
        "colab": {
          "base_uri": "https://localhost:8080/"
        },
        "id": "IvUv5Uib1SoF",
        "outputId": "4af3b8bc-23fe-4d00-fdc6-e37e5b3f87eb"
      },
      "execution_count": null,
      "outputs": [
        {
          "output_type": "execute_result",
          "data": {
            "text/plain": [
              "2.302585092994046"
            ]
          },
          "metadata": {},
          "execution_count": 4
        }
      ]
    },
    {
      "cell_type": "code",
      "source": [
        "m.cos(90)"
      ],
      "metadata": {
        "colab": {
          "base_uri": "https://localhost:8080/"
        },
        "id": "l6iSMV_l1cYj",
        "outputId": "714341c5-f4e2-462a-a6b8-383cebb8de38"
      },
      "execution_count": null,
      "outputs": [
        {
          "output_type": "execute_result",
          "data": {
            "text/plain": [
              "-0.4480736161291701"
            ]
          },
          "metadata": {},
          "execution_count": 5
        }
      ]
    },
    {
      "cell_type": "code",
      "source": [
        "m.asin(90rad)"
      ],
      "metadata": {
        "colab": {
          "base_uri": "https://localhost:8080/",
          "height": 130
        },
        "id": "BBEi36e11g1k",
        "outputId": "a390ff5b-137e-4518-ea16-869626babe97"
      },
      "execution_count": null,
      "outputs": [
        {
          "output_type": "error",
          "ename": "SyntaxError",
          "evalue": "ignored",
          "traceback": [
            "\u001b[0;36m  File \u001b[0;32m\"<ipython-input-7-67dc3a3dc54a>\"\u001b[0;36m, line \u001b[0;32m1\u001b[0m\n\u001b[0;31m    m.asin(90rad)\u001b[0m\n\u001b[0m               ^\u001b[0m\n\u001b[0;31mSyntaxError\u001b[0m\u001b[0;31m:\u001b[0m invalid syntax\n"
          ]
        }
      ]
    },
    {
      "cell_type": "code",
      "source": [
        "help(m)"
      ],
      "metadata": {
        "colab": {
          "base_uri": "https://localhost:8080/"
        },
        "id": "OcqlOAc1121k",
        "outputId": "461a9b84-2bc0-4747-eb47-6a6ca0ebd852"
      },
      "execution_count": null,
      "outputs": [
        {
          "output_type": "stream",
          "name": "stdout",
          "text": [
            "Help on built-in module math:\n",
            "\n",
            "NAME\n",
            "    math\n",
            "\n",
            "DESCRIPTION\n",
            "    This module provides access to the mathematical functions\n",
            "    defined by the C standard.\n",
            "\n",
            "FUNCTIONS\n",
            "    acos(x, /)\n",
            "        Return the arc cosine (measured in radians) of x.\n",
            "    \n",
            "    acosh(x, /)\n",
            "        Return the inverse hyperbolic cosine of x.\n",
            "    \n",
            "    asin(x, /)\n",
            "        Return the arc sine (measured in radians) of x.\n",
            "    \n",
            "    asinh(x, /)\n",
            "        Return the inverse hyperbolic sine of x.\n",
            "    \n",
            "    atan(x, /)\n",
            "        Return the arc tangent (measured in radians) of x.\n",
            "    \n",
            "    atan2(y, x, /)\n",
            "        Return the arc tangent (measured in radians) of y/x.\n",
            "        \n",
            "        Unlike atan(y/x), the signs of both x and y are considered.\n",
            "    \n",
            "    atanh(x, /)\n",
            "        Return the inverse hyperbolic tangent of x.\n",
            "    \n",
            "    ceil(x, /)\n",
            "        Return the ceiling of x as an Integral.\n",
            "        \n",
            "        This is the smallest integer >= x.\n",
            "    \n",
            "    copysign(x, y, /)\n",
            "        Return a float with the magnitude (absolute value) of x but the sign of y.\n",
            "        \n",
            "        On platforms that support signed zeros, copysign(1.0, -0.0)\n",
            "        returns -1.0.\n",
            "    \n",
            "    cos(x, /)\n",
            "        Return the cosine of x (measured in radians).\n",
            "    \n",
            "    cosh(x, /)\n",
            "        Return the hyperbolic cosine of x.\n",
            "    \n",
            "    degrees(x, /)\n",
            "        Convert angle x from radians to degrees.\n",
            "    \n",
            "    erf(x, /)\n",
            "        Error function at x.\n",
            "    \n",
            "    erfc(x, /)\n",
            "        Complementary error function at x.\n",
            "    \n",
            "    exp(x, /)\n",
            "        Return e raised to the power of x.\n",
            "    \n",
            "    expm1(x, /)\n",
            "        Return exp(x)-1.\n",
            "        \n",
            "        This function avoids the loss of precision involved in the direct evaluation of exp(x)-1 for small x.\n",
            "    \n",
            "    fabs(x, /)\n",
            "        Return the absolute value of the float x.\n",
            "    \n",
            "    factorial(x, /)\n",
            "        Find x!.\n",
            "        \n",
            "        Raise a ValueError if x is negative or non-integral.\n",
            "    \n",
            "    floor(x, /)\n",
            "        Return the floor of x as an Integral.\n",
            "        \n",
            "        This is the largest integer <= x.\n",
            "    \n",
            "    fmod(x, y, /)\n",
            "        Return fmod(x, y), according to platform C.\n",
            "        \n",
            "        x % y may differ.\n",
            "    \n",
            "    frexp(x, /)\n",
            "        Return the mantissa and exponent of x, as pair (m, e).\n",
            "        \n",
            "        m is a float and e is an int, such that x = m * 2.**e.\n",
            "        If x is 0, m and e are both 0.  Else 0.5 <= abs(m) < 1.0.\n",
            "    \n",
            "    fsum(seq, /)\n",
            "        Return an accurate floating point sum of values in the iterable seq.\n",
            "        \n",
            "        Assumes IEEE-754 floating point arithmetic.\n",
            "    \n",
            "    gamma(x, /)\n",
            "        Gamma function at x.\n",
            "    \n",
            "    gcd(x, y, /)\n",
            "        greatest common divisor of x and y\n",
            "    \n",
            "    hypot(x, y, /)\n",
            "        Return the Euclidean distance, sqrt(x*x + y*y).\n",
            "    \n",
            "    isclose(a, b, *, rel_tol=1e-09, abs_tol=0.0)\n",
            "        Determine whether two floating point numbers are close in value.\n",
            "        \n",
            "          rel_tol\n",
            "            maximum difference for being considered \"close\", relative to the\n",
            "            magnitude of the input values\n",
            "          abs_tol\n",
            "            maximum difference for being considered \"close\", regardless of the\n",
            "            magnitude of the input values\n",
            "        \n",
            "        Return True if a is close in value to b, and False otherwise.\n",
            "        \n",
            "        For the values to be considered close, the difference between them\n",
            "        must be smaller than at least one of the tolerances.\n",
            "        \n",
            "        -inf, inf and NaN behave similarly to the IEEE 754 Standard.  That\n",
            "        is, NaN is not close to anything, even itself.  inf and -inf are\n",
            "        only close to themselves.\n",
            "    \n",
            "    isfinite(x, /)\n",
            "        Return True if x is neither an infinity nor a NaN, and False otherwise.\n",
            "    \n",
            "    isinf(x, /)\n",
            "        Return True if x is a positive or negative infinity, and False otherwise.\n",
            "    \n",
            "    isnan(x, /)\n",
            "        Return True if x is a NaN (not a number), and False otherwise.\n",
            "    \n",
            "    ldexp(x, i, /)\n",
            "        Return x * (2**i).\n",
            "        \n",
            "        This is essentially the inverse of frexp().\n",
            "    \n",
            "    lgamma(x, /)\n",
            "        Natural logarithm of absolute value of Gamma function at x.\n",
            "    \n",
            "    log(...)\n",
            "        log(x, [base=math.e])\n",
            "        Return the logarithm of x to the given base.\n",
            "        \n",
            "        If the base not specified, returns the natural logarithm (base e) of x.\n",
            "    \n",
            "    log10(x, /)\n",
            "        Return the base 10 logarithm of x.\n",
            "    \n",
            "    log1p(x, /)\n",
            "        Return the natural logarithm of 1+x (base e).\n",
            "        \n",
            "        The result is computed in a way which is accurate for x near zero.\n",
            "    \n",
            "    log2(x, /)\n",
            "        Return the base 2 logarithm of x.\n",
            "    \n",
            "    modf(x, /)\n",
            "        Return the fractional and integer parts of x.\n",
            "        \n",
            "        Both results carry the sign of x and are floats.\n",
            "    \n",
            "    pow(x, y, /)\n",
            "        Return x**y (x to the power of y).\n",
            "    \n",
            "    radians(x, /)\n",
            "        Convert angle x from degrees to radians.\n",
            "    \n",
            "    remainder(x, y, /)\n",
            "        Difference between x and the closest integer multiple of y.\n",
            "        \n",
            "        Return x - n*y where n*y is the closest integer multiple of y.\n",
            "        In the case where x is exactly halfway between two multiples of\n",
            "        y, the nearest even value of n is used. The result is always exact.\n",
            "    \n",
            "    sin(x, /)\n",
            "        Return the sine of x (measured in radians).\n",
            "    \n",
            "    sinh(x, /)\n",
            "        Return the hyperbolic sine of x.\n",
            "    \n",
            "    sqrt(x, /)\n",
            "        Return the square root of x.\n",
            "    \n",
            "    tan(x, /)\n",
            "        Return the tangent of x (measured in radians).\n",
            "    \n",
            "    tanh(x, /)\n",
            "        Return the hyperbolic tangent of x.\n",
            "    \n",
            "    trunc(x, /)\n",
            "        Truncates the Real x to the nearest Integral toward 0.\n",
            "        \n",
            "        Uses the __trunc__ magic method.\n",
            "\n",
            "DATA\n",
            "    e = 2.718281828459045\n",
            "    inf = inf\n",
            "    nan = nan\n",
            "    pi = 3.141592653589793\n",
            "    tau = 6.283185307179586\n",
            "\n",
            "FILE\n",
            "    (built-in)\n",
            "\n",
            "\n"
          ]
        }
      ]
    },
    {
      "cell_type": "code",
      "source": [
        "m.gcd(2,3)"
      ],
      "metadata": {
        "colab": {
          "base_uri": "https://localhost:8080/"
        },
        "id": "zK7-JpRp2d8L",
        "outputId": "d276b63f-87f0-4e8f-9bbc-4969723d7adc"
      },
      "execution_count": null,
      "outputs": [
        {
          "output_type": "execute_result",
          "data": {
            "text/plain": [
              "1"
            ]
          },
          "metadata": {},
          "execution_count": 10
        }
      ]
    },
    {
      "cell_type": "code",
      "source": [
        "m.floor(2.333)"
      ],
      "metadata": {
        "colab": {
          "base_uri": "https://localhost:8080/"
        },
        "id": "lfiFwae82zcr",
        "outputId": "4c854c4b-0455-44d8-8104-a3d766951119"
      },
      "execution_count": null,
      "outputs": [
        {
          "output_type": "execute_result",
          "data": {
            "text/plain": [
              "2"
            ]
          },
          "metadata": {},
          "execution_count": 11
        }
      ]
    },
    {
      "cell_type": "code",
      "source": [
        "m.ceil(2.33)"
      ],
      "metadata": {
        "colab": {
          "base_uri": "https://localhost:8080/"
        },
        "id": "X8jWLN5K3F7T",
        "outputId": "9c54cf1f-3504-4d9a-c074-d05c5a85ecde"
      },
      "execution_count": null,
      "outputs": [
        {
          "output_type": "execute_result",
          "data": {
            "text/plain": [
              "3"
            ]
          },
          "metadata": {},
          "execution_count": 12
        }
      ]
    },
    {
      "cell_type": "code",
      "source": [
        "20/6"
      ],
      "metadata": {
        "colab": {
          "base_uri": "https://localhost:8080/"
        },
        "id": "8V9Ma-773Ke7",
        "outputId": "51d6a54a-89e0-4ee4-9178-bfbbfb762591"
      },
      "execution_count": null,
      "outputs": [
        {
          "output_type": "execute_result",
          "data": {
            "text/plain": [
              "3.3333333333333335"
            ]
          },
          "metadata": {},
          "execution_count": 13
        }
      ]
    },
    {
      "cell_type": "code",
      "source": [
        "m.isfinite(20/6)"
      ],
      "metadata": {
        "colab": {
          "base_uri": "https://localhost:8080/"
        },
        "id": "_e28D65Z3ZBU",
        "outputId": "69287098-2eb8-4f1c-a7be-918eb5288365"
      },
      "execution_count": null,
      "outputs": [
        {
          "output_type": "execute_result",
          "data": {
            "text/plain": [
              "True"
            ]
          },
          "metadata": {},
          "execution_count": 14
        }
      ]
    },
    {
      "cell_type": "code",
      "source": [
        "m.isfinite(m.sqrt(2))"
      ],
      "metadata": {
        "colab": {
          "base_uri": "https://localhost:8080/"
        },
        "id": "wtHyvIR73e1b",
        "outputId": "78ec61f1-1f3d-4bb5-b860-c50cc8fb4703"
      },
      "execution_count": null,
      "outputs": [
        {
          "output_type": "execute_result",
          "data": {
            "text/plain": [
              "True"
            ]
          },
          "metadata": {},
          "execution_count": 16
        }
      ]
    },
    {
      "cell_type": "code",
      "source": [
        "import time"
      ],
      "metadata": {
        "id": "jcusBLzM3wq7"
      },
      "execution_count": null,
      "outputs": []
    },
    {
      "cell_type": "code",
      "source": [
        "time.gmtime()"
      ],
      "metadata": {
        "colab": {
          "base_uri": "https://localhost:8080/"
        },
        "id": "Whw-yCCL4KYT",
        "outputId": "7943bbcb-6438-4400-cfc6-0560fdbd90c8"
      },
      "execution_count": null,
      "outputs": [
        {
          "output_type": "execute_result",
          "data": {
            "text/plain": [
              "time.struct_time(tm_year=2022, tm_mon=10, tm_mday=20, tm_hour=5, tm_min=33, tm_sec=53, tm_wday=3, tm_yday=293, tm_isdst=0)"
            ]
          },
          "metadata": {},
          "execution_count": 21
        }
      ]
    },
    {
      "cell_type": "code",
      "source": [
        "help(time.gmtime)"
      ],
      "metadata": {
        "colab": {
          "base_uri": "https://localhost:8080/"
        },
        "id": "w0UoLh094TKl",
        "outputId": "94d3e19a-d6d9-49ae-b382-584ac3c9e47a"
      },
      "execution_count": null,
      "outputs": [
        {
          "output_type": "stream",
          "name": "stdout",
          "text": [
            "Help on built-in function gmtime in module time:\n",
            "\n",
            "gmtime(...)\n",
            "    gmtime([seconds]) -> (tm_year, tm_mon, tm_mday, tm_hour, tm_min,\n",
            "                           tm_sec, tm_wday, tm_yday, tm_isdst)\n",
            "    \n",
            "    Convert seconds since the Epoch to a time tuple expressing UTC (a.k.a.\n",
            "    GMT).  When 'seconds' is not passed in, convert the current time instead.\n",
            "    \n",
            "    If the platform supports the tm_gmtoff and tm_zone, they are available as\n",
            "    attributes only.\n",
            "\n"
          ]
        }
      ]
    },
    {
      "cell_type": "code",
      "source": [
        "import calendar"
      ],
      "metadata": {
        "id": "ttU6BXwc4oA0"
      },
      "execution_count": null,
      "outputs": []
    },
    {
      "cell_type": "code",
      "source": [
        "calendar.datetime.now()"
      ],
      "metadata": {
        "colab": {
          "base_uri": "https://localhost:8080/",
          "height": 165
        },
        "id": "qVIc7kG_5iK8",
        "outputId": "0b10aa80-a7db-48b3-a891-6c441a262f3c"
      },
      "execution_count": null,
      "outputs": [
        {
          "output_type": "error",
          "ename": "AttributeError",
          "evalue": "ignored",
          "traceback": [
            "\u001b[0;31m---------------------------------------------------------------------------\u001b[0m",
            "\u001b[0;31mAttributeError\u001b[0m                            Traceback (most recent call last)",
            "\u001b[0;32m<ipython-input-30-5996f3bbd4ca>\u001b[0m in \u001b[0;36m<module>\u001b[0;34m\u001b[0m\n\u001b[0;32m----> 1\u001b[0;31m \u001b[0mcalendar\u001b[0m\u001b[0;34m.\u001b[0m\u001b[0mdatetime\u001b[0m\u001b[0;34m.\u001b[0m\u001b[0mnow\u001b[0m\u001b[0;34m(\u001b[0m\u001b[0;34m)\u001b[0m\u001b[0;34m\u001b[0m\u001b[0;34m\u001b[0m\u001b[0m\n\u001b[0m",
            "\u001b[0;31mAttributeError\u001b[0m: module 'datetime' has no attribute 'now'"
          ]
        }
      ]
    },
    {
      "cell_type": "markdown",
      "source": [
        "# try except finally"
      ],
      "metadata": {
        "id": "LzZwUaKA5qUz"
      }
    },
    {
      "cell_type": "code",
      "source": [
        "a=\"krishna\"\n",
        "\n",
        "print(a/2)\n",
        "\n",
        "print(\"Hello world\")"
      ],
      "metadata": {
        "colab": {
          "base_uri": "https://localhost:8080/",
          "height": 235
        },
        "id": "aDPia1-MuqUI",
        "outputId": "a8ff51b3-4e5f-4e0b-f1cc-87423d5ffa7b"
      },
      "execution_count": null,
      "outputs": [
        {
          "output_type": "error",
          "ename": "TypeError",
          "evalue": "ignored",
          "traceback": [
            "\u001b[0;31m---------------------------------------------------------------------------\u001b[0m",
            "\u001b[0;31mTypeError\u001b[0m                                 Traceback (most recent call last)",
            "\u001b[0;32m<ipython-input-2-d0569837c97e>\u001b[0m in \u001b[0;36m<module>\u001b[0;34m\u001b[0m\n\u001b[1;32m      1\u001b[0m \u001b[0ma\u001b[0m\u001b[0;34m=\u001b[0m\u001b[0;34m\"krishna\"\u001b[0m\u001b[0;34m\u001b[0m\u001b[0;34m\u001b[0m\u001b[0m\n\u001b[1;32m      2\u001b[0m \u001b[0;34m\u001b[0m\u001b[0m\n\u001b[0;32m----> 3\u001b[0;31m \u001b[0mprint\u001b[0m\u001b[0;34m(\u001b[0m\u001b[0ma\u001b[0m\u001b[0;34m/\u001b[0m\u001b[0;36m2\u001b[0m\u001b[0;34m)\u001b[0m\u001b[0;34m\u001b[0m\u001b[0;34m\u001b[0m\u001b[0m\n\u001b[0m\u001b[1;32m      4\u001b[0m \u001b[0;34m\u001b[0m\u001b[0m\n\u001b[1;32m      5\u001b[0m \u001b[0mprint\u001b[0m\u001b[0;34m(\u001b[0m\u001b[0;34m\"Hello world\"\u001b[0m\u001b[0;34m)\u001b[0m\u001b[0;34m\u001b[0m\u001b[0;34m\u001b[0m\u001b[0m\n",
            "\u001b[0;31mTypeError\u001b[0m: unsupported operand type(s) for /: 'str' and 'int'"
          ]
        }
      ]
    },
    {
      "cell_type": "code",
      "source": [
        "try:\n",
        "  a=\"krishna\"\n",
        "  print(a/2)\n",
        "except Exception:\n",
        "  print(\"A string is not divisible by number\")\n",
        "  \n",
        "print(\"Hello world\")"
      ],
      "metadata": {
        "colab": {
          "base_uri": "https://localhost:8080/"
        },
        "id": "CB30yETMu0Dx",
        "outputId": "81ba27eb-86a2-446d-ac80-4b691e12f79b"
      },
      "execution_count": null,
      "outputs": [
        {
          "output_type": "stream",
          "name": "stdout",
          "text": [
            "A string is not divisible by number\n",
            "Hello world\n"
          ]
        }
      ]
    },
    {
      "cell_type": "code",
      "source": [
        "try:\n",
        "  a=10\n",
        "  print(a/2)\n",
        "except Exception:\n",
        "  print(\"A string is not divisible by number\")\n"
      ],
      "metadata": {
        "colab": {
          "base_uri": "https://localhost:8080/"
        },
        "id": "lFd2g1r-vaBj",
        "outputId": "a9644442-a139-446e-a778-146b4a1fab97"
      },
      "execution_count": null,
      "outputs": [
        {
          "output_type": "stream",
          "name": "stdout",
          "text": [
            "5.0\n"
          ]
        }
      ]
    },
    {
      "cell_type": "code",
      "source": [
        "try:\n",
        "  a=10\n",
        "  print(a/2)\n",
        "\n",
        "except Exception:\n",
        "  print(\"A string is not divisible by number\")\n",
        "\n",
        "finally:\n",
        "  print(\"hello world\")"
      ],
      "metadata": {
        "colab": {
          "base_uri": "https://localhost:8080/"
        },
        "id": "FWqxcxNMxC3B",
        "outputId": "ab5fffe8-fe34-4088-8cf1-3ef66fe601ad"
      },
      "execution_count": null,
      "outputs": [
        {
          "output_type": "stream",
          "name": "stdout",
          "text": [
            "5.0\n",
            "hello world\n"
          ]
        }
      ]
    },
    {
      "cell_type": "code",
      "source": [
        "try:\n",
        "  a=\"krishna\"\n",
        "  print(a/2)\n",
        "except Exception:\n",
        "  print(\"A string is not divisible by number\")\n",
        "\n",
        "finally:\n",
        "  print(\"hello world\")"
      ],
      "metadata": {
        "colab": {
          "base_uri": "https://localhost:8080/"
        },
        "id": "9dz2H3b5xT4R",
        "outputId": "e71101f0-8fcd-49e1-b168-4bb7dff41549"
      },
      "execution_count": null,
      "outputs": [
        {
          "output_type": "stream",
          "name": "stdout",
          "text": [
            "A string is not divisible by number\n",
            "hello world\n"
          ]
        }
      ]
    },
    {
      "cell_type": "code",
      "source": [
        "try:\n",
        "  a=10\n",
        "  print(a/2)\n",
        "\n",
        "except TypeError:\n",
        "  print(\"A string is not divisible by number\")\n",
        "\n",
        "except Exception:\n",
        "  print(\"This is a invalid code\")\n",
        "\n",
        "finally:\n",
        "  print(\"hello world\")"
      ],
      "metadata": {
        "colab": {
          "base_uri": "https://localhost:8080/"
        },
        "id": "bXVBVb6exYTx",
        "outputId": "ef505201-9bd3-4d3a-c438-fde842054390"
      },
      "execution_count": null,
      "outputs": [
        {
          "output_type": "stream",
          "name": "stdout",
          "text": [
            "5.0\n",
            "hello world\n"
          ]
        }
      ]
    },
    {
      "cell_type": "code",
      "source": [
        "try:\n",
        "  # a=\"krishna\"\n",
        "  a=int(\"10.0\")\n",
        "  print(a/2)\n",
        "\n",
        "except TypeError:\n",
        "  print(\"A string is not divisible by number\")\n",
        "\n",
        "except ValueError:\n",
        "  print(\"string is not directly convertible to int\")\n",
        "\n",
        "except Exception:\n",
        "  print(\"This is a invalid code\")\n",
        "\n",
        "finally:\n",
        "  print(\"hello world\")"
      ],
      "metadata": {
        "colab": {
          "base_uri": "https://localhost:8080/"
        },
        "id": "mZeVufS7x4xf",
        "outputId": "e75b3c5f-2842-43f3-d8b8-68eea932585d"
      },
      "execution_count": null,
      "outputs": [
        {
          "output_type": "stream",
          "name": "stdout",
          "text": [
            "string is not directly convertible to int\n",
            "hello world\n"
          ]
        }
      ]
    },
    {
      "cell_type": "code",
      "source": [
        "a=int(\"10.0\")"
      ],
      "metadata": {
        "colab": {
          "base_uri": "https://localhost:8080/",
          "height": 165
        },
        "id": "FGGB-siiyDEP",
        "outputId": "d7b5490b-df14-4cd3-edb4-ad5249cc19a5"
      },
      "execution_count": null,
      "outputs": [
        {
          "output_type": "error",
          "ename": "ValueError",
          "evalue": "ignored",
          "traceback": [
            "\u001b[0;31m---------------------------------------------------------------------------\u001b[0m",
            "\u001b[0;31mValueError\u001b[0m                                Traceback (most recent call last)",
            "\u001b[0;32m<ipython-input-13-5f3d5c3da173>\u001b[0m in \u001b[0;36m<module>\u001b[0;34m\u001b[0m\n\u001b[0;32m----> 1\u001b[0;31m \u001b[0ma\u001b[0m\u001b[0;34m=\u001b[0m\u001b[0mint\u001b[0m\u001b[0;34m(\u001b[0m\u001b[0;34m\"10.0\"\u001b[0m\u001b[0;34m)\u001b[0m\u001b[0;34m\u001b[0m\u001b[0;34m\u001b[0m\u001b[0m\n\u001b[0m",
            "\u001b[0;31mValueError\u001b[0m: invalid literal for int() with base 10: '10.0'"
          ]
        }
      ]
    },
    {
      "cell_type": "code",
      "source": [
        "try:\n",
        "  # a=\"krishna\"\n",
        "  a=int(\"10.0\")\n",
        "  print(a/2)\n",
        "\n",
        "except Exception as e:\n",
        "  print(\"This is a invalid code\", e)\n",
        "\n",
        "finally:\n",
        "  print(\"hello world\")"
      ],
      "metadata": {
        "colab": {
          "base_uri": "https://localhost:8080/"
        },
        "id": "yHfxzCCcyY2N",
        "outputId": "3723b374-5462-4bfb-98d4-76c7ccb6c3c7"
      },
      "execution_count": null,
      "outputs": [
        {
          "output_type": "stream",
          "name": "stdout",
          "text": [
            "This is a invalid code invalid literal for int() with base 10: '10.0'\n",
            "hello world\n"
          ]
        }
      ]
    },
    {
      "cell_type": "code",
      "source": [
        "try:\n",
        "  # a=\"krishna\"\n",
        "  a=int(\"10.0\")\n",
        "  print(a/2)\n",
        "\n",
        "except Exception as e:\n",
        "  print(\"This is a invalid code\", e)\n",
        "else:\n",
        "  print(\"There is not error in this code\")"
      ],
      "metadata": {
        "colab": {
          "base_uri": "https://localhost:8080/"
        },
        "id": "LWXaocvjyug8",
        "outputId": "35ac6524-807e-47d1-97c7-a379c7dd6228"
      },
      "execution_count": null,
      "outputs": [
        {
          "output_type": "stream",
          "name": "stdout",
          "text": [
            "This is a invalid code invalid literal for int() with base 10: '10.0'\n"
          ]
        }
      ]
    },
    {
      "cell_type": "code",
      "source": [
        "try:\n",
        "  # a=\"krishna\"\n",
        "  a=int(10.0)\n",
        "  print(a/2)\n",
        "\n",
        "except Exception as e:\n",
        "  print(\"This is a invalid code\", e)\n",
        "else:\n",
        "  print(\"There is not error in this code\")"
      ],
      "metadata": {
        "colab": {
          "base_uri": "https://localhost:8080/"
        },
        "id": "SV2aLL33zLWa",
        "outputId": "52de3142-30b7-418c-dceb-eb1cb7978ea6"
      },
      "execution_count": null,
      "outputs": [
        {
          "output_type": "stream",
          "name": "stdout",
          "text": [
            "5.0\n",
            "There is not error in this code\n"
          ]
        }
      ]
    },
    {
      "cell_type": "code",
      "source": [
        "if 1:\n",
        "  a=2/3\n",
        "  raise ValueError(\"2 is not divisible by 3\")"
      ],
      "metadata": {
        "colab": {
          "base_uri": "https://localhost:8080/",
          "height": 200
        },
        "id": "sngxvnOHzVqL",
        "outputId": "ec41e229-01da-4bcf-ba2f-cfe01eb0c9b3"
      },
      "execution_count": null,
      "outputs": [
        {
          "output_type": "error",
          "ename": "ValueError",
          "evalue": "ignored",
          "traceback": [
            "\u001b[0;31m---------------------------------------------------------------------------\u001b[0m",
            "\u001b[0;31mValueError\u001b[0m                                Traceback (most recent call last)",
            "\u001b[0;32m<ipython-input-22-7c52c9ae0ddb>\u001b[0m in \u001b[0;36m<module>\u001b[0;34m\u001b[0m\n\u001b[1;32m      1\u001b[0m \u001b[0;32mif\u001b[0m \u001b[0;36m1\u001b[0m\u001b[0;34m:\u001b[0m\u001b[0;34m\u001b[0m\u001b[0;34m\u001b[0m\u001b[0m\n\u001b[1;32m      2\u001b[0m   \u001b[0ma\u001b[0m\u001b[0;34m=\u001b[0m\u001b[0;36m2\u001b[0m\u001b[0;34m/\u001b[0m\u001b[0;36m3\u001b[0m\u001b[0;34m\u001b[0m\u001b[0;34m\u001b[0m\u001b[0m\n\u001b[0;32m----> 3\u001b[0;31m   \u001b[0;32mraise\u001b[0m \u001b[0mValueError\u001b[0m\u001b[0;34m(\u001b[0m\u001b[0;34m\"2 is not divisible by 3\"\u001b[0m\u001b[0;34m)\u001b[0m\u001b[0;34m\u001b[0m\u001b[0;34m\u001b[0m\u001b[0m\n\u001b[0m",
            "\u001b[0;31mValueError\u001b[0m: 2 is not divisible by 3"
          ]
        }
      ]
    },
    {
      "cell_type": "code",
      "source": [
        "def fun():\n",
        "  for i in range(10000000000000000000000000000000000000000000000):\n",
        "    yield i"
      ],
      "metadata": {
        "id": "Hmsa3Kk204V4"
      },
      "execution_count": null,
      "outputs": []
    },
    {
      "cell_type": "code",
      "source": [
        "x=fun()\n",
        "type(x)"
      ],
      "metadata": {
        "colab": {
          "base_uri": "https://localhost:8080/"
        },
        "id": "KMRrD0wx72wA",
        "outputId": "bf3e3539-6803-4d97-e7c0-c58fd6e7e2ab"
      },
      "execution_count": null,
      "outputs": [
        {
          "output_type": "execute_result",
          "data": {
            "text/plain": [
              "generator"
            ]
          },
          "metadata": {},
          "execution_count": 31
        }
      ]
    },
    {
      "cell_type": "code",
      "source": [
        "next(x)\n"
      ],
      "metadata": {
        "colab": {
          "base_uri": "https://localhost:8080/"
        },
        "id": "wFtR524z74LY",
        "outputId": "f9f0b9a4-39b7-4d45-e888-24d3c33d4dc6"
      },
      "execution_count": null,
      "outputs": [
        {
          "output_type": "execute_result",
          "data": {
            "text/plain": [
              "0"
            ]
          },
          "metadata": {},
          "execution_count": 32
        }
      ]
    },
    {
      "cell_type": "code",
      "source": [
        "next(x)"
      ],
      "metadata": {
        "colab": {
          "base_uri": "https://localhost:8080/"
        },
        "id": "lymT21sb8AJl",
        "outputId": "f3620ce2-c455-4ade-c884-4f815432e508"
      },
      "execution_count": null,
      "outputs": [
        {
          "output_type": "execute_result",
          "data": {
            "text/plain": [
              "1"
            ]
          },
          "metadata": {},
          "execution_count": 33
        }
      ]
    },
    {
      "cell_type": "code",
      "source": [
        "a=\"Fo485od is goOd\""
      ],
      "metadata": {
        "id": "FSFtTCsd8gn8"
      },
      "execution_count": null,
      "outputs": []
    },
    {
      "cell_type": "code",
      "source": [
        "a.lower()"
      ],
      "metadata": {
        "colab": {
          "base_uri": "https://localhost:8080/",
          "height": 36
        },
        "id": "p0hrUGEwZOne",
        "outputId": "52afcc84-78a7-41fd-c325-6f993c63e43b"
      },
      "execution_count": null,
      "outputs": [
        {
          "output_type": "execute_result",
          "data": {
            "text/plain": [
              "'fo485od is good'"
            ],
            "application/vnd.google.colaboratory.intrinsic+json": {
              "type": "string"
            }
          },
          "metadata": {},
          "execution_count": 2
        }
      ]
    },
    {
      "cell_type": "code",
      "source": [
        "def remove(doc):\n",
        "  b=\"\"\n",
        "  for i in doc:\n",
        "    if i in '0123456789':\n",
        "      continue\n",
        "    b+=i.lower()\n",
        "  return b"
      ],
      "metadata": {
        "id": "pMunbvIwZUTU"
      },
      "execution_count": null,
      "outputs": []
    },
    {
      "cell_type": "code",
      "source": [
        "remove(a)"
      ],
      "metadata": {
        "colab": {
          "base_uri": "https://localhost:8080/",
          "height": 36
        },
        "id": "BGbxSbGNZ6rs",
        "outputId": "eed541b3-2a46-4f6f-8b55-fe16d46784bb"
      },
      "execution_count": null,
      "outputs": [
        {
          "output_type": "execute_result",
          "data": {
            "text/plain": [
              "'food is good'"
            ],
            "application/vnd.google.colaboratory.intrinsic+json": {
              "type": "string"
            }
          },
          "metadata": {},
          "execution_count": 15
        }
      ]
    },
    {
      "cell_type": "code",
      "source": [
        "import re\n",
        "a=a.lower()"
      ],
      "metadata": {
        "id": "iEvukPOdZ8xr"
      },
      "execution_count": null,
      "outputs": []
    },
    {
      "cell_type": "code",
      "source": [
        "re.sub(\"[0-9A-Z]\",\"\",a)"
      ],
      "metadata": {
        "colab": {
          "base_uri": "https://localhost:8080/",
          "height": 36
        },
        "id": "6-5en5z8b4TI",
        "outputId": "c3706708-e87d-4c25-c1f2-ba1562490feb"
      },
      "execution_count": null,
      "outputs": [
        {
          "output_type": "execute_result",
          "data": {
            "text/plain": [
              "'food is good'"
            ],
            "application/vnd.google.colaboratory.intrinsic+json": {
              "type": "string"
            }
          },
          "metadata": {},
          "execution_count": 26
        }
      ]
    },
    {
      "cell_type": "code",
      "source": [
        "b=\"krishna43324,453 ,./,.;i*&^*&s a Trainer\""
      ],
      "metadata": {
        "id": "Z4EqvC96cVX3"
      },
      "execution_count": null,
      "outputs": []
    },
    {
      "cell_type": "code",
      "source": [
        "b=b.lower()"
      ],
      "metadata": {
        "id": "wtyweyBwdqaw"
      },
      "execution_count": null,
      "outputs": []
    },
    {
      "cell_type": "code",
      "source": [
        "b"
      ],
      "metadata": {
        "colab": {
          "base_uri": "https://localhost:8080/",
          "height": 36
        },
        "id": "7e_hG_QldsF0",
        "outputId": "2a4975a1-f5f7-4e78-ef31-b1625bcef8f2"
      },
      "execution_count": null,
      "outputs": [
        {
          "output_type": "execute_result",
          "data": {
            "text/plain": [
              "'krishna43324,453 ,./,.;i*&^*&s a trainer'"
            ],
            "application/vnd.google.colaboratory.intrinsic+json": {
              "type": "string"
            }
          },
          "metadata": {},
          "execution_count": 30
        }
      ]
    },
    {
      "cell_type": "code",
      "source": [
        "re.sub(\"[^a-z ]\",\"\",b)"
      ],
      "metadata": {
        "colab": {
          "base_uri": "https://localhost:8080/",
          "height": 36
        },
        "id": "gUb29GINdvyM",
        "outputId": "863abf2d-450c-4ccf-f513-6316dc1288ce"
      },
      "execution_count": null,
      "outputs": [
        {
          "output_type": "execute_result",
          "data": {
            "text/plain": [
              "'krishna is a trainer'"
            ],
            "application/vnd.google.colaboratory.intrinsic+json": {
              "type": "string"
            }
          },
          "metadata": {},
          "execution_count": 35
        }
      ]
    },
    {
      "cell_type": "code",
      "source": [
        "import string"
      ],
      "metadata": {
        "id": "U3jydAG1d48j"
      },
      "execution_count": null,
      "outputs": []
    },
    {
      "cell_type": "code",
      "source": [
        "string.punctuation"
      ],
      "metadata": {
        "colab": {
          "base_uri": "https://localhost:8080/",
          "height": 36
        },
        "id": "OzHl-mdceYKL",
        "outputId": "27758574-4603-4e59-8cdf-9b2c967295ea"
      },
      "execution_count": null,
      "outputs": [
        {
          "output_type": "execute_result",
          "data": {
            "text/plain": [
              "'!\"#$%&\\'()*+,-./:;<=>?@[\\\\]^_`{|}~'"
            ],
            "application/vnd.google.colaboratory.intrinsic+json": {
              "type": "string"
            }
          },
          "metadata": {},
          "execution_count": 38
        }
      ]
    },
    {
      "cell_type": "code",
      "source": [
        "re.sub(f\"[{string.punctuation}]\",\"\",b)"
      ],
      "metadata": {
        "colab": {
          "base_uri": "https://localhost:8080/",
          "height": 36
        },
        "id": "Oxk5qGPHecLU",
        "outputId": "0236a3dc-3f67-41f3-d4ed-4853e0280963"
      },
      "execution_count": null,
      "outputs": [
        {
          "output_type": "execute_result",
          "data": {
            "text/plain": [
              "'krishna43324453 is a trainer'"
            ],
            "application/vnd.google.colaboratory.intrinsic+json": {
              "type": "string"
            }
          },
          "metadata": {},
          "execution_count": 39
        }
      ]
    },
    {
      "cell_type": "code",
      "source": [
        "c=re.sub(\"[{}]\".format(string.punctuation),\"\",b)"
      ],
      "metadata": {
        "id": "CR4Y1SUee0Np"
      },
      "execution_count": null,
      "outputs": []
    },
    {
      "cell_type": "code",
      "source": [
        "re.sub(\"[1-9]\",\"\",c)"
      ],
      "metadata": {
        "colab": {
          "base_uri": "https://localhost:8080/",
          "height": 36
        },
        "id": "q6A3EjyxfEyZ",
        "outputId": "9d6c888b-b34e-4451-a4f8-c0a8e69bb7ea"
      },
      "execution_count": null,
      "outputs": [
        {
          "output_type": "execute_result",
          "data": {
            "text/plain": [
              "'krishna is a trainer'"
            ],
            "application/vnd.google.colaboratory.intrinsic+json": {
              "type": "string"
            }
          },
          "metadata": {},
          "execution_count": 42
        }
      ]
    },
    {
      "cell_type": "code",
      "source": [
        "a=[\"krishna singh\",\"Vishal singh\"]"
      ],
      "metadata": {
        "id": "vG0gDoGwfZ66"
      },
      "execution_count": null,
      "outputs": []
    },
    {
      "cell_type": "code",
      "source": [
        "b=\"\"\n",
        "for i in a:\n",
        "  b+=i+\" \"\n",
        "b"
      ],
      "metadata": {
        "colab": {
          "base_uri": "https://localhost:8080/",
          "height": 36
        },
        "id": "QYIMQPc0gOjO",
        "outputId": "09f2faa3-e99e-4271-b852-4b30c47fa4eb"
      },
      "execution_count": null,
      "outputs": [
        {
          "output_type": "execute_result",
          "data": {
            "text/plain": [
              "'krishna singh Vishal singh '"
            ],
            "application/vnd.google.colaboratory.intrinsic+json": {
              "type": "string"
            }
          },
          "metadata": {},
          "execution_count": 65
        }
      ]
    },
    {
      "cell_type": "code",
      "source": [],
      "metadata": {
        "id": "qWrGkfuEguue"
      },
      "execution_count": null,
      "outputs": []
    },
    {
      "cell_type": "code",
      "source": [
        "c=b.split(\" singh \")\n",
        "c"
      ],
      "metadata": {
        "colab": {
          "base_uri": "https://localhost:8080/"
        },
        "id": "VRlqZbGChV2t",
        "outputId": "ed8f0640-e23a-49c7-987f-c9bddbe7e500"
      },
      "execution_count": null,
      "outputs": [
        {
          "output_type": "execute_result",
          "data": {
            "text/plain": [
              "['krishna', 'Vishal', '']"
            ]
          },
          "metadata": {},
          "execution_count": 67
        }
      ]
    },
    {
      "cell_type": "code",
      "source": [
        "d=\" \".join(c)\n",
        "d"
      ],
      "metadata": {
        "colab": {
          "base_uri": "https://localhost:8080/",
          "height": 36
        },
        "id": "4ZlVe5XDjLed",
        "outputId": "751f301d-e231-4747-9be8-2f945b11f201"
      },
      "execution_count": null,
      "outputs": [
        {
          "output_type": "execute_result",
          "data": {
            "text/plain": [
              "'krishna Vishal '"
            ],
            "application/vnd.google.colaboratory.intrinsic+json": {
              "type": "string"
            }
          },
          "metadata": {},
          "execution_count": 71
        }
      ]
    },
    {
      "cell_type": "code",
      "source": [
        "e=d.strip()\n",
        "e"
      ],
      "metadata": {
        "colab": {
          "base_uri": "https://localhost:8080/",
          "height": 36
        },
        "id": "bMtfWjaGjUHm",
        "outputId": "799a91e7-b657-4b44-8489-4ec8d2c86d2a"
      },
      "execution_count": null,
      "outputs": [
        {
          "output_type": "execute_result",
          "data": {
            "text/plain": [
              "'krishna Vishal'"
            ],
            "application/vnd.google.colaboratory.intrinsic+json": {
              "type": "string"
            }
          },
          "metadata": {},
          "execution_count": 73
        }
      ]
    },
    {
      "cell_type": "code",
      "source": [
        "e.split(\" \")"
      ],
      "metadata": {
        "colab": {
          "base_uri": "https://localhost:8080/"
        },
        "id": "6gT1Qv9kjiRr",
        "outputId": "88fec3c2-380d-4a40-812d-22147c2247c9"
      },
      "execution_count": null,
      "outputs": [
        {
          "output_type": "execute_result",
          "data": {
            "text/plain": [
              "['krishna', 'Vishal']"
            ]
          },
          "metadata": {},
          "execution_count": 74
        }
      ]
    },
    {
      "cell_type": "code",
      "source": [
        "((\" \".join(c)).strip()).split(\" \")"
      ],
      "metadata": {
        "colab": {
          "base_uri": "https://localhost:8080/"
        },
        "id": "2r3D60GjhrTk",
        "outputId": "875ee67f-11d8-45df-bc91-ca06957f3cc6"
      },
      "execution_count": null,
      "outputs": [
        {
          "output_type": "execute_result",
          "data": {
            "text/plain": [
              "['krishna', 'Vishal']"
            ]
          },
          "metadata": {},
          "execution_count": 62
        }
      ]
    },
    {
      "cell_type": "code",
      "source": [],
      "metadata": {
        "id": "ao_8YK2EiDor"
      },
      "execution_count": null,
      "outputs": []
    }
  ]
}